{
 "cells": [
  {
   "cell_type": "code",
   "execution_count": 54,
   "metadata": {},
   "outputs": [
    {
     "name": "stdout",
     "output_type": "stream",
     "text": [
      "Number of failed login attempt:  6\n",
      "sshd version:  OpenSSH_6.8\n",
      "Encyption:  SHA256\n",
      "Successful Login User:  fred\n",
      "ip:  192.0.2.60\n",
      "port:  6647\n"
     ]
    }
   ],
   "source": [
    "f2 = open('SSH_log_Sample.txt', 'r')\n",
    "c = 0\n",
    "l = []\n",
    "for line in f2:\n",
    "    if 'Failed' in line:\n",
    "        c += 1\n",
    "    if 'version' in line:\n",
    "        l = line.split()\n",
    "        x = l[l.index('version')+1]\n",
    "        x = x[:x.index(',')]\n",
    "    if 'private host key' in line:\n",
    "        e = line.split()\n",
    "        a = e[e.index('key')+3]\n",
    "    if 'Accepted' in line:\n",
    "        u = line.split()\n",
    "        b = a[:a.index(':')]\n",
    "        \n",
    "print('Number of failed login attempt: ', c)\n",
    "print('sshd version: ', x)\n",
    "print('Encyption: ',b)\n",
    "print('Successful Login User: ', u[u.index('Accepted')+3] )\n",
    "print('ip: ', u[u.index('Accepted')+5] )\n",
    "print('port: ', u[u.index('Accepted')+7] )"
   ]
  },
  {
   "cell_type": "code",
   "execution_count": null,
   "metadata": {},
   "outputs": [],
   "source": []
  }
 ],
 "metadata": {
  "kernelspec": {
   "display_name": "Python 3",
   "language": "python",
   "name": "python3"
  },
  "language_info": {
   "codemirror_mode": {
    "name": "ipython",
    "version": 3
   },
   "file_extension": ".py",
   "mimetype": "text/x-python",
   "name": "python",
   "nbconvert_exporter": "python",
   "pygments_lexer": "ipython3",
   "version": "3.7.4"
  }
 },
 "nbformat": 4,
 "nbformat_minor": 2
}
