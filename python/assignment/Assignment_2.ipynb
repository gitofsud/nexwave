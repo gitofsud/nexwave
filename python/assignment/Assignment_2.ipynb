{
 "cells": [
  {
   "cell_type": "code",
   "execution_count": 1,
   "metadata": {},
   "outputs": [],
   "source": [
    "D = {\n",
    "    \"ROM\": \"READ ONLY MEMORY\",\n",
    "    \"HDD\": \"HARD DISK DRIVE\",\n",
    "    \"FDD\": \"FLOPPY DISK DRIVE\",\n",
    "    \"RAM\": \"RANDOM ACCESS MEMORY\",\n",
    "    \"CPU\": \"CENTRAL PROCESSING UNIT\"\n",
    "}"
   ]
  },
  {
   "cell_type": "code",
   "execution_count": 6,
   "metadata": {},
   "outputs": [
    {
     "name": "stdout",
     "output_type": "stream",
     "text": [
      "Enter Device: FDD\n"
     ]
    }
   ],
   "source": [
    "x = input(\"Enter Device Name: \")"
   ]
  },
  {
   "cell_type": "code",
   "execution_count": 7,
   "metadata": {},
   "outputs": [
    {
     "name": "stdout",
     "output_type": "stream",
     "text": [
      "FLOPPY DISK DRIVE\n"
     ]
    }
   ],
   "source": [
    "info = D.get(x)\n",
    "\n",
    "if info is None:\n",
    "    print(\"Device Not Found\")\n",
    "else:\n",
    "    print(info)"
   ]
  },
  {
   "cell_type": "code",
   "execution_count": null,
   "metadata": {},
   "outputs": [],
   "source": []
  }
 ],
 "metadata": {
  "kernelspec": {
   "display_name": "Python 3",
   "language": "python",
   "name": "python3"
  },
  "language_info": {
   "codemirror_mode": {
    "name": "ipython",
    "version": 3
   },
   "file_extension": ".py",
   "mimetype": "text/x-python",
   "name": "python",
   "nbconvert_exporter": "python",
   "pygments_lexer": "ipython3",
   "version": "3.7.4"
  }
 },
 "nbformat": 4,
 "nbformat_minor": 2
}
